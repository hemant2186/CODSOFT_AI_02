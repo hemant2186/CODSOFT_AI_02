{
 "cells": [
  {
   "cell_type": "markdown",
   "id": "014d4838-e8a2-46a3-b49b-7969098af2bf",
   "metadata": {},
   "source": [
    "# Task 2: Tic-Tac-Toe AI (Minimax vs. Human Player)"
   ]
  },
  {
   "cell_type": "code",
   "execution_count": 1,
   "id": "e944d453-bddf-4810-ad83-761bf6cdee8b",
   "metadata": {},
   "outputs": [
    {
     "name": "stdout",
     "output_type": "stream",
     "text": [
      "Welcome to Tic-Tac-Toe! You are 'X', AI is 'O'.\n",
      "  |   |  \n",
      "--+---+--\n",
      "  |   |  \n",
      "--+---+--\n",
      "  |   |  \n"
     ]
    },
    {
     "name": "stdin",
     "output_type": "stream",
     "text": [
      "Enter row (1-3):  1\n",
      "Enter col (1-3):  3\n"
     ]
    },
    {
     "name": "stdout",
     "output_type": "stream",
     "text": [
      "  |   | X\n",
      "--+---+--\n",
      "  |   |  \n",
      "--+---+--\n",
      "  |   |  \n",
      "AI's move:\n",
      "  |   | X\n",
      "--+---+--\n",
      "  | O |  \n",
      "--+---+--\n",
      "  |   |  \n"
     ]
    },
    {
     "name": "stdin",
     "output_type": "stream",
     "text": [
      "Enter row (1-3):  1\n",
      "Enter col (1-3):  1\n"
     ]
    },
    {
     "name": "stdout",
     "output_type": "stream",
     "text": [
      "X |   | X\n",
      "--+---+--\n",
      "  | O |  \n",
      "--+---+--\n",
      "  |   |  \n",
      "AI's move:\n",
      "X | O | X\n",
      "--+---+--\n",
      "  | O |  \n",
      "--+---+--\n",
      "  |   |  \n"
     ]
    },
    {
     "name": "stdin",
     "output_type": "stream",
     "text": [
      "Enter row (1-3):  3\n",
      "Enter col (1-3):  2\n"
     ]
    },
    {
     "name": "stdout",
     "output_type": "stream",
     "text": [
      "X | O | X\n",
      "--+---+--\n",
      "  | O |  \n",
      "--+---+--\n",
      "  | X |  \n",
      "AI's move:\n",
      "X | O | X\n",
      "--+---+--\n",
      "O | O |  \n",
      "--+---+--\n",
      "  | X |  \n"
     ]
    },
    {
     "name": "stdin",
     "output_type": "stream",
     "text": [
      "Enter row (1-3):  3\n",
      "Enter col (1-3):  1\n"
     ]
    },
    {
     "name": "stdout",
     "output_type": "stream",
     "text": [
      "X | O | X\n",
      "--+---+--\n",
      "O | O |  \n",
      "--+---+--\n",
      "X | X |  \n",
      "AI's move:\n",
      "X | O | X\n",
      "--+---+--\n",
      "O | O | O\n",
      "--+---+--\n",
      "X | X |  \n",
      "AI wins!\n"
     ]
    }
   ],
   "source": [
    "# Tic-Tac-Toe AI Game (Human vs AI) with Minimax, Command Line UI\n",
    "\n",
    "def print_board(board):\n",
    "    for i in range(3):\n",
    "        print(\" | \".join(board[i]))\n",
    "        if i < 2:\n",
    "            print(\"--+---+--\")\n",
    "\n",
    "def check_winner(board, player):\n",
    "    # Check rows, columns and diagonals\n",
    "    for i in range(3):\n",
    "        if all([cell == player for cell in board[i]]): return True\n",
    "        if all([board[j][i] == player for j in range(3)]): return True\n",
    "    if all([board[i][i] == player for i in range(3)]): return True\n",
    "    if all([board[i][2 - i] == player for i in range(3)]): return True\n",
    "    return False\n",
    "\n",
    "def moves_left(board):\n",
    "    return any(board[i][j] == ' ' for i in range(3) for j in range(3))\n",
    "\n",
    "def minimax(board, depth, is_maximizing):\n",
    "    if check_winner(board, 'O'): return 1\n",
    "    if check_winner(board, 'X'): return -1\n",
    "    if not moves_left(board): return 0\n",
    "\n",
    "    if is_maximizing:\n",
    "        best = -float('inf')\n",
    "        for i in range(3):\n",
    "            for j in range(3):\n",
    "                if board[i][j] == ' ':\n",
    "                    board[i][j] = 'O'\n",
    "                    score = minimax(board, depth + 1, False)\n",
    "                    board[i][j] = ' '\n",
    "                    best = max(score, best)\n",
    "        return best\n",
    "    else:\n",
    "        best = float('inf')\n",
    "        for i in range(3):\n",
    "            for j in range(3):\n",
    "                if board[i][j] == ' ':\n",
    "                    board[i][j] = 'X'\n",
    "                    score = minimax(board, depth + 1, True)\n",
    "                    board[i][j] = ' '\n",
    "                    best = min(score, best)\n",
    "        return best\n",
    "\n",
    "def ai_move(board):\n",
    "    best_score = -float('inf')\n",
    "    move = None\n",
    "    for i in range(3):\n",
    "        for j in range(3):\n",
    "            if board[i][j] == ' ':\n",
    "                board[i][j] = 'O'\n",
    "                score = minimax(board, 0, False)\n",
    "                board[i][j] = ' '\n",
    "                if score > best_score:\n",
    "                    best_score = score\n",
    "                    move = (i, j)\n",
    "    board[move[0]][move[1]] = 'O'\n",
    "\n",
    "def main():\n",
    "    board = [[' ' for _ in range(3)] for _ in range(3)]\n",
    "    print(\"Welcome to Tic-Tac-Toe! You are 'X', AI is 'O'.\")\n",
    "    print_board(board)\n",
    "\n",
    "    while True:\n",
    "        # Player move\n",
    "        while True:\n",
    "            try:\n",
    "                row = int(input(\"Enter row (1-3): \")) - 1\n",
    "                col = int(input(\"Enter col (1-3): \")) - 1\n",
    "                if board[row][col] != ' ' or not (0 <= row <=2 and 0 <= col <=2):\n",
    "                    print(\"Invalid move. Try again.\")\n",
    "                else:\n",
    "                    board[row][col] = 'X'\n",
    "                    break\n",
    "            except:\n",
    "                print(\"Please enter valid integers between 1 and 3.\")\n",
    "        print_board(board)\n",
    "        if check_winner(board, 'X'):\n",
    "            print(\"You win!\")\n",
    "            break\n",
    "        if not moves_left(board):\n",
    "            print(\"It's a draw!\")\n",
    "            break\n",
    "\n",
    "        print(\"AI's move:\")\n",
    "        ai_move(board)\n",
    "        print_board(board)\n",
    "        if check_winner(board, 'O'):\n",
    "            print(\"AI wins!\")\n",
    "            break\n",
    "        if not moves_left(board):\n",
    "            print(\"It's a draw!\")\n",
    "            break\n",
    "\n",
    "if __name__ == \"__main__\":\n",
    "    main()\n"
   ]
  },
  {
   "cell_type": "code",
   "execution_count": null,
   "id": "216774ee-889a-40a3-889a-6a0d31312913",
   "metadata": {},
   "outputs": [],
   "source": []
  }
 ],
 "metadata": {
  "kernelspec": {
   "display_name": "Python 3 (ipykernel)",
   "language": "python",
   "name": "python3"
  },
  "language_info": {
   "codemirror_mode": {
    "name": "ipython",
    "version": 3
   },
   "file_extension": ".py",
   "mimetype": "text/x-python",
   "name": "python",
   "nbconvert_exporter": "python",
   "pygments_lexer": "ipython3",
   "version": "3.11.9"
  }
 },
 "nbformat": 4,
 "nbformat_minor": 5
}
